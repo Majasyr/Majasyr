{
  "nbformat": 4,
  "nbformat_minor": 0,
  "metadata": {
    "colab": {
      "name": "Transfer_learning.ipynb",
      "provenance": []
    },
    "kernelspec": {
      "name": "python3",
      "display_name": "Python 3"
    },
    "accelerator": "GPU"
  },
  "cells": [
    {
      "cell_type": "markdown",
      "metadata": {
        "id": "hOF_INxUcPLD"
      },
      "source": [
        "# Transfer Learning Task\n",
        "\n",
        "The goal of this task is to illustrate how pretrained neural networks can be used for soving different classification problems.\n",
        "\n",
        "## Data\n",
        "\n",
        "We will use the [Cifar 10 dataset](https://www.cs.toronto.edu/~kriz/cifar.html). It consists of 60000 32x32 colour images in 10 classes, with 6000 images per class. There are 50000 training images and 10000 test images.\n",
        "\n",
        "Here are the classes in the dataset, as well as 10 random images from each:\n",
        "\n",
        "![cifar10](https://github.com/mlcollege/rbi/blob/master/flagship/Deep-Learning-and-Image-Processing/images/cifar10.png?raw=1)\n",
        "\n"
      ]
    },
    {
      "cell_type": "code",
      "metadata": {
        "id": "70eKVSd3Bcev",
        "outputId": "3983e1de-7db3-47d5-fc66-87b5c9455c6b",
        "colab": {
          "base_uri": "https://localhost:8080/"
        }
      },
      "source": [
        "from tensorflow.keras.datasets import cifar10\n",
        "(x_train, y_train), (x_test, y_test) = cifar10.load_data()\n",
        "\n",
        "print(x_train.shape)\n",
        "print(y_train.shape)"
      ],
      "execution_count": 1,
      "outputs": [
        {
          "output_type": "stream",
          "name": "stdout",
          "text": [
            "Downloading data from https://www.cs.toronto.edu/~kriz/cifar-10-python.tar.gz\n",
            "\u001b[1m170498071/170498071\u001b[0m \u001b[32m━━━━━━━━━━━━━━━━━━━━\u001b[0m\u001b[37m\u001b[0m \u001b[1m7s\u001b[0m 0us/step\n",
            "(50000, 32, 32, 3)\n",
            "(50000, 1)\n"
          ]
        }
      ]
    },
    {
      "cell_type": "markdown",
      "metadata": {
        "id": "sKgE-SjNC5Do"
      },
      "source": [
        "Prepare data"
      ]
    },
    {
      "cell_type": "code",
      "metadata": {
        "id": "g8lqSW6OC8Gs"
      },
      "source": [
        "from keras.utils import to_categorical\n",
        "import numpy as np\n",
        "\n",
        "n_classes = 10\n",
        "\n",
        "y_train = to_categorical(y_train, n_classes)\n",
        "y_test = to_categorical(y_test, n_classes)\n",
        "x_train = x_train.astype('float32') / 255\n",
        "x_test = x_test.astype('float32') / 255\n",
        "\n",
        "x_train_mean = np.mean(x_train, axis=0)\n",
        "x_train -= x_train_mean\n",
        "x_test -= x_train_mean"
      ],
      "execution_count": 2,
      "outputs": []
    },
    {
      "cell_type": "markdown",
      "metadata": {
        "id": "v1v5qOMsDgow"
      },
      "source": [
        "Import pretrained model"
      ]
    },
    {
      "cell_type": "code",
      "metadata": {
        "id": "LXlt7ntQCpc4"
      },
      "source": [
        "from tensorflow.keras.applications import VGG16\n",
        "base_model = VGG16(weights='imagenet', include_top=False, input_shape=(32, 32, 3))\n",
        "#for layer in base_model.layers[:-4]:\n",
        "#    layer.trainable = False\n",
        "\n",
        "from tensorflow.keras.applications.resnet50 import ResNet50\n",
        "#base_model = ResNet50(weights='imagenet', include_top=False, input_shape=(32, 32, 3))"
      ],
      "execution_count": 22,
      "outputs": []
    },
    {
      "cell_type": "markdown",
      "metadata": {
        "id": "xZIpQiXwDyQ_"
      },
      "source": [
        "Add new top layers"
      ]
    },
    {
      "cell_type": "code",
      "metadata": {
        "id": "EZsaIchIP6wa"
      },
      "source": [
        "from tensorflow.keras import models, layers\n",
        "\n",
        "model = models.Sequential()\n",
        "model.add(base_model)\n",
        "model.add(layers.Flatten())\n",
        "model.add(layers.Dense(512, activation='relu'))\n",
        "#model.add(layers.Dropout(0.5))\n",
        "model.add(layers.Dense(10, activation='softmax'))\n"
      ],
      "execution_count": 23,
      "outputs": []
    },
    {
      "cell_type": "markdown",
      "metadata": {
        "id": "GlN-7FUqEGEf"
      },
      "source": [
        "Compile the model"
      ]
    },
    {
      "cell_type": "code",
      "metadata": {
        "id": "joNSbPVxQwL_"
      },
      "source": [
        "model.compile(loss='categorical_crossentropy',\n",
        "              optimizer='adam',\n",
        "              metrics=['accuracy'])"
      ],
      "execution_count": 24,
      "outputs": []
    },
    {
      "cell_type": "code",
      "metadata": {
        "id": "y3VgPkmaKyMK",
        "outputId": "0d0db78c-d9f0-4fc1-f730-70412561615f",
        "colab": {
          "base_uri": "https://localhost:8080/"
        }
      },
      "source": [
        "model.fit(x_train, y_train,\n",
        "          batch_size = 300, epochs = 20, verbose=1,\n",
        "          validation_data=(x_test, y_test))"
      ],
      "execution_count": 20,
      "outputs": [
        {
          "output_type": "stream",
          "name": "stdout",
          "text": [
            "Epoch 1/20\n",
            "\u001b[1m167/167\u001b[0m \u001b[32m━━━━━━━━━━━━━━━━━━━━\u001b[0m\u001b[37m\u001b[0m \u001b[1m77s\u001b[0m 308ms/step - accuracy: 0.9587 - loss: 0.1284 - val_accuracy: 0.7717 - val_loss: 1.0038\n",
            "Epoch 2/20\n",
            "\u001b[1m167/167\u001b[0m \u001b[32m━━━━━━━━━━━━━━━━━━━━\u001b[0m\u001b[37m\u001b[0m \u001b[1m21s\u001b[0m 99ms/step - accuracy: 0.9518 - loss: 0.1493 - val_accuracy: 0.7654 - val_loss: 1.0486\n",
            "Epoch 3/20\n",
            "\u001b[1m167/167\u001b[0m \u001b[32m━━━━━━━━━━━━━━━━━━━━\u001b[0m\u001b[37m\u001b[0m \u001b[1m17s\u001b[0m 100ms/step - accuracy: 0.9592 - loss: 0.1294 - val_accuracy: 0.7746 - val_loss: 0.9572\n",
            "Epoch 4/20\n",
            "\u001b[1m167/167\u001b[0m \u001b[32m━━━━━━━━━━━━━━━━━━━━\u001b[0m\u001b[37m\u001b[0m \u001b[1m16s\u001b[0m 98ms/step - accuracy: 0.9731 - loss: 0.0823 - val_accuracy: 0.7331 - val_loss: 1.4675\n",
            "Epoch 5/20\n",
            "\u001b[1m167/167\u001b[0m \u001b[32m━━━━━━━━━━━━━━━━━━━━\u001b[0m\u001b[37m\u001b[0m \u001b[1m16s\u001b[0m 98ms/step - accuracy: 0.9757 - loss: 0.0731 - val_accuracy: 0.8030 - val_loss: 0.9687\n",
            "Epoch 6/20\n",
            "\u001b[1m167/167\u001b[0m \u001b[32m━━━━━━━━━━━━━━━━━━━━\u001b[0m\u001b[37m\u001b[0m \u001b[1m21s\u001b[0m 98ms/step - accuracy: 0.9783 - loss: 0.0666 - val_accuracy: 0.7897 - val_loss: 1.0551\n",
            "Epoch 7/20\n",
            "\u001b[1m167/167\u001b[0m \u001b[32m━━━━━━━━━━━━━━━━━━━━\u001b[0m\u001b[37m\u001b[0m \u001b[1m21s\u001b[0m 100ms/step - accuracy: 0.9770 - loss: 0.0697 - val_accuracy: 0.7948 - val_loss: 1.0224\n",
            "Epoch 8/20\n",
            "\u001b[1m167/167\u001b[0m \u001b[32m━━━━━━━━━━━━━━━━━━━━\u001b[0m\u001b[37m\u001b[0m \u001b[1m21s\u001b[0m 103ms/step - accuracy: 0.9813 - loss: 0.0587 - val_accuracy: 0.7714 - val_loss: 1.1204\n",
            "Epoch 9/20\n",
            "\u001b[1m167/167\u001b[0m \u001b[32m━━━━━━━━━━━━━━━━━━━━\u001b[0m\u001b[37m\u001b[0m \u001b[1m20s\u001b[0m 98ms/step - accuracy: 0.9830 - loss: 0.0559 - val_accuracy: 0.7953 - val_loss: 1.0271\n",
            "Epoch 10/20\n",
            "\u001b[1m167/167\u001b[0m \u001b[32m━━━━━━━━━━━━━━━━━━━━\u001b[0m\u001b[37m\u001b[0m \u001b[1m20s\u001b[0m 98ms/step - accuracy: 0.9836 - loss: 0.0494 - val_accuracy: 0.7896 - val_loss: 1.1156\n",
            "Epoch 11/20\n",
            "\u001b[1m167/167\u001b[0m \u001b[32m━━━━━━━━━━━━━━━━━━━━\u001b[0m\u001b[37m\u001b[0m \u001b[1m21s\u001b[0m 103ms/step - accuracy: 0.9823 - loss: 0.0526 - val_accuracy: 0.7925 - val_loss: 1.0934\n",
            "Epoch 12/20\n",
            "\u001b[1m167/167\u001b[0m \u001b[32m━━━━━━━━━━━━━━━━━━━━\u001b[0m\u001b[37m\u001b[0m \u001b[1m16s\u001b[0m 98ms/step - accuracy: 0.9758 - loss: 0.0826 - val_accuracy: 0.1381 - val_loss: 339.7819\n",
            "Epoch 13/20\n",
            "\u001b[1m167/167\u001b[0m \u001b[32m━━━━━━━━━━━━━━━━━━━━\u001b[0m\u001b[37m\u001b[0m \u001b[1m16s\u001b[0m 99ms/step - accuracy: 0.8260 - loss: 0.5378 - val_accuracy: 0.7431 - val_loss: 0.9343\n",
            "Epoch 14/20\n",
            "\u001b[1m167/167\u001b[0m \u001b[32m━━━━━━━━━━━━━━━━━━━━\u001b[0m\u001b[37m\u001b[0m \u001b[1m21s\u001b[0m 102ms/step - accuracy: 0.9653 - loss: 0.1105 - val_accuracy: 0.7971 - val_loss: 0.8814\n",
            "Epoch 15/20\n",
            "\u001b[1m167/167\u001b[0m \u001b[32m━━━━━━━━━━━━━━━━━━━━\u001b[0m\u001b[37m\u001b[0m \u001b[1m17s\u001b[0m 103ms/step - accuracy: 0.9848 - loss: 0.0476 - val_accuracy: 0.8070 - val_loss: 1.0153\n",
            "Epoch 16/20\n",
            "\u001b[1m167/167\u001b[0m \u001b[32m━━━━━━━━━━━━━━━━━━━━\u001b[0m\u001b[37m\u001b[0m \u001b[1m20s\u001b[0m 98ms/step - accuracy: 0.9889 - loss: 0.0335 - val_accuracy: 0.7909 - val_loss: 1.1366\n",
            "Epoch 17/20\n",
            "\u001b[1m167/167\u001b[0m \u001b[32m━━━━━━━━━━━━━━━━━━━━\u001b[0m\u001b[37m\u001b[0m \u001b[1m17s\u001b[0m 99ms/step - accuracy: 0.9894 - loss: 0.0340 - val_accuracy: 0.7891 - val_loss: 1.2114\n",
            "Epoch 18/20\n",
            "\u001b[1m167/167\u001b[0m \u001b[32m━━━━━━━━━━━━━━━━━━━━\u001b[0m\u001b[37m\u001b[0m \u001b[1m20s\u001b[0m 98ms/step - accuracy: 0.9894 - loss: 0.0326 - val_accuracy: 0.7992 - val_loss: 1.0937\n",
            "Epoch 19/20\n",
            "\u001b[1m167/167\u001b[0m \u001b[32m━━━━━━━━━━━━━━━━━━━━\u001b[0m\u001b[37m\u001b[0m \u001b[1m20s\u001b[0m 98ms/step - accuracy: 0.9904 - loss: 0.0290 - val_accuracy: 0.7895 - val_loss: 1.2932\n",
            "Epoch 20/20\n",
            "\u001b[1m167/167\u001b[0m \u001b[32m━━━━━━━━━━━━━━━━━━━━\u001b[0m\u001b[37m\u001b[0m \u001b[1m21s\u001b[0m 99ms/step - accuracy: 0.9897 - loss: 0.0324 - val_accuracy: 0.7997 - val_loss: 1.0327\n"
          ]
        },
        {
          "output_type": "execute_result",
          "data": {
            "text/plain": [
              "<keras.src.callbacks.history.History at 0x7ceac2312ad0>"
            ]
          },
          "metadata": {},
          "execution_count": 20
        }
      ]
    },
    {
      "cell_type": "markdown",
      "metadata": {
        "id": "HAMR2Y-4Fc1r"
      },
      "source": [
        "## Evaluate the model\n",
        "\n",
        "First we need to convert probability vectors to class indices."
      ]
    },
    {
      "cell_type": "code",
      "metadata": {
        "id": "Sx9BF4owRQLw",
        "outputId": "41c83872-4141-4504-91ea-5d9bb11a6702",
        "colab": {
          "base_uri": "https://localhost:8080/"
        }
      },
      "source": [
        "y_pred = model.predict(x_test)\n",
        "\n",
        "print(y_pred.shape)"
      ],
      "execution_count": 16,
      "outputs": [
        {
          "output_type": "stream",
          "name": "stdout",
          "text": [
            "\u001b[1m313/313\u001b[0m \u001b[32m━━━━━━━━━━━━━━━━━━━━\u001b[0m\u001b[37m\u001b[0m \u001b[1m11s\u001b[0m 20ms/step\n",
            "(10000, 10)\n"
          ]
        }
      ]
    },
    {
      "cell_type": "code",
      "metadata": {
        "id": "1Fkgj0CsFiKf",
        "outputId": "644a1e93-dfdb-4ca0-f988-7e23e2d49b9c",
        "colab": {
          "base_uri": "https://localhost:8080/"
        }
      },
      "source": [
        "import numpy as np\n",
        "\n",
        "y_test_class = np.argmax(y_test, axis=1)\n",
        "y_pred_class = np.argmax(y_pred, axis=1)\n",
        "print(y_pred_class.shape)"
      ],
      "execution_count": 17,
      "outputs": [
        {
          "output_type": "stream",
          "name": "stdout",
          "text": [
            "(10000,)\n"
          ]
        }
      ]
    },
    {
      "cell_type": "code",
      "metadata": {
        "id": "6hJX2LzCFqH3",
        "outputId": "dde1f034-23ca-4b49-a7e2-15dbb5be119d",
        "colab": {
          "base_uri": "https://localhost:8080/"
        }
      },
      "source": [
        "from sklearn import metrics\n",
        "from sklearn.metrics import accuracy_score\n",
        "\n",
        "\n",
        "print (\"Test accuracy: {:.4f}\".format(accuracy_score(y_test_class, y_pred_class)))\n",
        "print ()\n",
        "print(metrics.classification_report(y_test_class, y_pred_class, digits=4))"
      ],
      "execution_count": 18,
      "outputs": [
        {
          "output_type": "stream",
          "name": "stdout",
          "text": [
            "Test accuracy: 0.7926\n",
            "\n",
            "              precision    recall  f1-score   support\n",
            "\n",
            "           0     0.8687    0.7870    0.8258      1000\n",
            "           1     0.8750    0.8890    0.8819      1000\n",
            "           2     0.6902    0.7820    0.7332      1000\n",
            "           3     0.6067    0.6850    0.6435      1000\n",
            "           4     0.8300    0.7080    0.7642      1000\n",
            "           5     0.7890    0.5760    0.6659      1000\n",
            "           6     0.7287    0.9160    0.8117      1000\n",
            "           7     0.8507    0.8490    0.8498      1000\n",
            "           8     0.9131    0.8620    0.8868      1000\n",
            "           9     0.8433    0.8720    0.8574      1000\n",
            "\n",
            "    accuracy                         0.7926     10000\n",
            "   macro avg     0.7996    0.7926    0.7920     10000\n",
            "weighted avg     0.7996    0.7926    0.7920     10000\n",
            "\n"
          ]
        }
      ]
    },
    {
      "cell_type": "code",
      "source": [],
      "metadata": {
        "id": "0TDCPlK9VTqG"
      },
      "execution_count": null,
      "outputs": []
    },
    {
      "cell_type": "code",
      "metadata": {
        "id": "NsyQZar3Fw5F",
        "outputId": "b7914b99-ca4f-41de-af68-d354ddb88c35",
        "colab": {
          "base_uri": "https://localhost:8080/"
        }
      },
      "source": [
        "from sklearn.metrics import confusion_matrix\n",
        "\n",
        "print(confusion_matrix(y_test_class, y_pred_class))"
      ],
      "execution_count": 19,
      "outputs": [
        {
          "output_type": "stream",
          "name": "stdout",
          "text": [
            "[[787  16  56  22  13   7  27  11  33  28]\n",
            " [  6 889   3   4   3   2  10   4  12  67]\n",
            " [ 24   1 782  40  40  10  73  16   6   8]\n",
            " [ 12   5  66 685  32  77  78  28   7  10]\n",
            " [ 22   3  64  64 708  25  71  37   1   5]\n",
            " [  3   5  87 208  24 576  45  42   3   7]\n",
            " [  0   1  29  35   8   5 916   2   2   2]\n",
            " [  5   5  21  44  19  24  16 849   3  14]\n",
            " [ 37  31  15  17   4   0   9   4 862  21]\n",
            " [ 10  60  10  10   2   4  12   5  15 872]]\n"
          ]
        }
      ]
    },
    {
      "cell_type": "code",
      "source": [
        "#resnet\n",
        "\n",
        "from sklearn import metrics\n",
        "from sklearn.metrics import accuracy_score\n",
        "\n",
        "\n",
        "print (\"Test accuracy: {:.4f}\".format(accuracy_score(y_test_class, y_pred_class)))\n",
        "print ()\n",
        "print(metrics.classification_report(y_test_class, y_pred_class, digits=4))\n"
      ],
      "metadata": {
        "id": "iJbST6BqVVyI"
      },
      "execution_count": null,
      "outputs": []
    },
    {
      "cell_type": "code",
      "source": [
        "model.fit(x_train, y_train,\n",
        "          batch_size = 300, epochs = 20, verbose=1,\n",
        "          validation_data=(x_test, y_test))"
      ],
      "metadata": {
        "id": "eHgrbzTATlyK",
        "outputId": "b3733a15-1a01-4e94-ff52-beb6208804f1",
        "colab": {
          "base_uri": "https://localhost:8080/"
        }
      },
      "execution_count": 25,
      "outputs": [
        {
          "output_type": "stream",
          "name": "stdout",
          "text": [
            "Epoch 1/20\n",
            "\u001b[1m167/167\u001b[0m \u001b[32m━━━━━━━━━━━━━━━━━━━━\u001b[0m\u001b[37m\u001b[0m \u001b[1m57s\u001b[0m 232ms/step - accuracy: 0.1503 - loss: 2.2968 - val_accuracy: 0.2481 - val_loss: 1.8505\n",
            "Epoch 2/20\n",
            "\u001b[1m167/167\u001b[0m \u001b[32m━━━━━━━━━━━━━━━━━━━━\u001b[0m\u001b[37m\u001b[0m \u001b[1m22s\u001b[0m 133ms/step - accuracy: 0.3241 - loss: 1.6881 - val_accuracy: 0.5114 - val_loss: 1.2898\n",
            "Epoch 3/20\n",
            "\u001b[1m167/167\u001b[0m \u001b[32m━━━━━━━━━━━━━━━━━━━━\u001b[0m\u001b[37m\u001b[0m \u001b[1m40s\u001b[0m 125ms/step - accuracy: 0.5564 - loss: 1.1736 - val_accuracy: 0.6612 - val_loss: 0.9493\n",
            "Epoch 4/20\n",
            "\u001b[1m167/167\u001b[0m \u001b[32m━━━━━━━━━━━━━━━━━━━━\u001b[0m\u001b[37m\u001b[0m \u001b[1m21s\u001b[0m 127ms/step - accuracy: 0.6905 - loss: 0.8815 - val_accuracy: 0.7396 - val_loss: 0.7946\n",
            "Epoch 5/20\n",
            "\u001b[1m167/167\u001b[0m \u001b[32m━━━━━━━━━━━━━━━━━━━━\u001b[0m\u001b[37m\u001b[0m \u001b[1m21s\u001b[0m 126ms/step - accuracy: 0.7704 - loss: 0.6708 - val_accuracy: 0.7639 - val_loss: 0.7050\n",
            "Epoch 6/20\n",
            "\u001b[1m167/167\u001b[0m \u001b[32m━━━━━━━━━━━━━━━━━━━━\u001b[0m\u001b[37m\u001b[0m \u001b[1m21s\u001b[0m 125ms/step - accuracy: 0.8232 - loss: 0.5290 - val_accuracy: 0.7830 - val_loss: 0.6566\n",
            "Epoch 7/20\n",
            "\u001b[1m167/167\u001b[0m \u001b[32m━━━━━━━━━━━━━━━━━━━━\u001b[0m\u001b[37m\u001b[0m \u001b[1m21s\u001b[0m 125ms/step - accuracy: 0.8551 - loss: 0.4377 - val_accuracy: 0.8006 - val_loss: 0.6308\n",
            "Epoch 8/20\n",
            "\u001b[1m167/167\u001b[0m \u001b[32m━━━━━━━━━━━━━━━━━━━━\u001b[0m\u001b[37m\u001b[0m \u001b[1m41s\u001b[0m 126ms/step - accuracy: 0.8815 - loss: 0.3568 - val_accuracy: 0.7857 - val_loss: 0.6895\n",
            "Epoch 9/20\n",
            "\u001b[1m167/167\u001b[0m \u001b[32m━━━━━━━━━━━━━━━━━━━━\u001b[0m\u001b[37m\u001b[0m \u001b[1m41s\u001b[0m 127ms/step - accuracy: 0.9004 - loss: 0.2968 - val_accuracy: 0.7856 - val_loss: 0.7271\n",
            "Epoch 10/20\n",
            "\u001b[1m167/167\u001b[0m \u001b[32m━━━━━━━━━━━━━━━━━━━━\u001b[0m\u001b[37m\u001b[0m \u001b[1m41s\u001b[0m 126ms/step - accuracy: 0.9211 - loss: 0.2408 - val_accuracy: 0.7989 - val_loss: 0.6673\n",
            "Epoch 11/20\n",
            "\u001b[1m167/167\u001b[0m \u001b[32m━━━━━━━━━━━━━━━━━━━━\u001b[0m\u001b[37m\u001b[0m \u001b[1m22s\u001b[0m 135ms/step - accuracy: 0.9344 - loss: 0.2000 - val_accuracy: 0.8134 - val_loss: 0.6779\n",
            "Epoch 12/20\n",
            "\u001b[1m167/167\u001b[0m \u001b[32m━━━━━━━━━━━━━━━━━━━━\u001b[0m\u001b[37m\u001b[0m \u001b[1m39s\u001b[0m 125ms/step - accuracy: 0.9421 - loss: 0.1761 - val_accuracy: 0.8088 - val_loss: 0.7457\n",
            "Epoch 13/20\n",
            "\u001b[1m167/167\u001b[0m \u001b[32m━━━━━━━━━━━━━━━━━━━━\u001b[0m\u001b[37m\u001b[0m \u001b[1m42s\u001b[0m 134ms/step - accuracy: 0.9506 - loss: 0.1553 - val_accuracy: 0.8091 - val_loss: 0.7636\n",
            "Epoch 14/20\n",
            "\u001b[1m167/167\u001b[0m \u001b[32m━━━━━━━━━━━━━━━━━━━━\u001b[0m\u001b[37m\u001b[0m \u001b[1m41s\u001b[0m 133ms/step - accuracy: 0.9567 - loss: 0.1341 - val_accuracy: 0.8123 - val_loss: 0.7547\n",
            "Epoch 15/20\n",
            "\u001b[1m167/167\u001b[0m \u001b[32m━━━━━━━━━━━━━━━━━━━━\u001b[0m\u001b[37m\u001b[0m \u001b[1m40s\u001b[0m 127ms/step - accuracy: 0.9609 - loss: 0.1215 - val_accuracy: 0.8104 - val_loss: 0.8006\n",
            "Epoch 16/20\n",
            "\u001b[1m167/167\u001b[0m \u001b[32m━━━━━━━━━━━━━━━━━━━━\u001b[0m\u001b[37m\u001b[0m \u001b[1m42s\u001b[0m 133ms/step - accuracy: 0.9669 - loss: 0.1064 - val_accuracy: 0.8189 - val_loss: 0.7821\n",
            "Epoch 17/20\n",
            "\u001b[1m167/167\u001b[0m \u001b[32m━━━━━━━━━━━━━━━━━━━━\u001b[0m\u001b[37m\u001b[0m \u001b[1m41s\u001b[0m 134ms/step - accuracy: 0.9740 - loss: 0.0829 - val_accuracy: 0.8120 - val_loss: 0.8467\n",
            "Epoch 18/20\n",
            "\u001b[1m167/167\u001b[0m \u001b[32m━━━━━━━━━━━━━━━━━━━━\u001b[0m\u001b[37m\u001b[0m \u001b[1m41s\u001b[0m 133ms/step - accuracy: 0.9704 - loss: 0.0956 - val_accuracy: 0.8137 - val_loss: 0.7793\n",
            "Epoch 19/20\n",
            "\u001b[1m167/167\u001b[0m \u001b[32m━━━━━━━━━━━━━━━━━━━━\u001b[0m\u001b[37m\u001b[0m \u001b[1m23s\u001b[0m 135ms/step - accuracy: 0.9807 - loss: 0.0612 - val_accuracy: 0.8131 - val_loss: 0.8407\n",
            "Epoch 20/20\n",
            "\u001b[1m167/167\u001b[0m \u001b[32m━━━━━━━━━━━━━━━━━━━━\u001b[0m\u001b[37m\u001b[0m \u001b[1m39s\u001b[0m 125ms/step - accuracy: 0.9758 - loss: 0.0791 - val_accuracy: 0.8032 - val_loss: 1.0222\n"
          ]
        },
        {
          "output_type": "execute_result",
          "data": {
            "text/plain": [
              "<keras.src.callbacks.history.History at 0x7ceac20cd850>"
            ]
          },
          "metadata": {},
          "execution_count": 25
        }
      ]
    },
    {
      "cell_type": "code",
      "source": [],
      "metadata": {
        "id": "ryMlIF30agZX"
      },
      "execution_count": null,
      "outputs": []
    }
  ]
}